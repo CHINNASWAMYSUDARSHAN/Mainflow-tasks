{
 "cells": [
  {
   "cell_type": "markdown",
   "id": "e6bfa337-ec61-495f-9f2a-cfc9b4bd4e6a",
   "metadata": {},
   "source": [
    "# Python Syntax\n",
    "        - Python Indentation\n",
    "        - Python variables\n",
    "        - Python identifiers\n",
    "        - Python keywords\n",
    "        - Python Comments\n",
    "        - Python multiple line statements\n",
    "        - Quotation in Python\n",
    "        - String literals in Python\n",
    "        - Input from user"
   ]
  },
  {
   "cell_type": "markdown",
   "id": "097ef798-f293-4dd0-87c0-59e5e7b6543e",
   "metadata": {},
   "source": [
    "### Simple Exercises"
   ]
  },
  {
   "cell_type": "code",
   "execution_count": 11,
   "id": "921db1e5-dc3a-408b-9cef-a68ef338e2d2",
   "metadata": {},
   "outputs": [
    {
     "name": "stdin",
     "output_type": "stream",
     "text": [
      "Enter a Value:  3\n"
     ]
    },
    {
     "name": "stdout",
     "output_type": "stream",
     "text": [
      "3 is a Odd Number\n"
     ]
    }
   ],
   "source": [
    "#Python Indentation\n",
    "a=int(input(\"Enter a Value: \"))\n",
    "if a%2==0:\n",
    "    print(f\"{a} is an Even Number\")\n",
    "else:\n",
    "    print(f\"{a} is a Odd Number\")"
   ]
  },
  {
   "cell_type": "code",
   "execution_count": 12,
   "id": "c505721b-4da0-4b5b-8b31-f5c51115b9c2",
   "metadata": {},
   "outputs": [
    {
     "name": "stdout",
     "output_type": "stream",
     "text": [
      "The variable x stores the value as  5\n",
      "The variable y storess the value as  Sudarshan\n"
     ]
    }
   ],
   "source": [
    "#Python Variables\n",
    "x=5 # x variable store a value as int\n",
    "y='Sudarshan' # y variable store a value as string\n",
    "print(\"The variable x stores the value as \",x)\n",
    "print(\"The variable y storess the value as \",y)\n"
   ]
  },
  {
   "cell_type": "code",
   "execution_count": 22,
   "id": "87bee411-a548-4c98-bc2f-bde852915bc0",
   "metadata": {},
   "outputs": [
    {
     "name": "stdout",
     "output_type": "stream",
     "text": [
      "\n",
      " Sudarshan \n",
      " Suda \n",
      " Suda\n"
     ]
    }
   ],
   "source": [
    "# Python identifiers\n",
    "# valid identifiers\n",
    "name='Sudarshan'\n",
    "my_name='Suda'\n",
    "name1='Suda'\n",
    "print(\"\\n\",name,\"\\n\",my_name,\"\\n\",name1)"
   ]
  },
  {
   "cell_type": "code",
   "execution_count": 17,
   "id": "ddffcddb-1d73-4525-9648-a79a288ee065",
   "metadata": {},
   "outputs": [
    {
     "name": "stdout",
     "output_type": "stream",
     "text": [
      "The list of keywords \n",
      "['False', 'None', 'True', 'and', 'as', 'assert', 'async', 'await', 'break', 'class', 'continue', 'def', 'del', 'elif', 'else', 'except', 'finally', 'for', 'from', 'global', 'if', 'import', 'in', 'is', 'lambda', 'nonlocal', 'not', 'or', 'pass', 'raise', 'return', 'try', 'while', 'with', 'yield']\n"
     ]
    }
   ],
   "source": [
    "# Python Keywords\n",
    "import keyword\n",
    "print(\"The list of keywords \")\n",
    "print(keyword.kwlist)"
   ]
  },
  {
   "cell_type": "code",
   "execution_count": 24,
   "id": "12a9e852-dfbd-47ed-989d-75c8edb0b4c7",
   "metadata": {},
   "outputs": [
    {
     "name": "stdout",
     "output_type": "stream",
     "text": [
      "i is 20\n",
      "True\n",
      "True\n",
      "3\n",
      "1\n",
      "False\n",
      "False\n"
     ]
    }
   ],
   "source": [
    "# Program for keywords\n",
    "i = 20\n",
    "if (i == 10):\n",
    "\tprint(\"i is 10\")\n",
    "elif (i == 20):\n",
    "\tprint(\"i is 20\")\n",
    "else:\n",
    "\tprint(\"i is not present\")\n",
    "\n",
    "print(False == 0)\n",
    "print(True == 1)\n",
    "\n",
    "print(True + True + True)\n",
    "print(True + False + False)\n",
    "\n",
    "print(None == 0)\n",
    "print(None == [])\n"
   ]
  },
  {
   "cell_type": "code",
   "execution_count": 65,
   "id": "5c07d9f3-6f4f-488c-b092-606daee1d50c",
   "metadata": {},
   "outputs": [
    {
     "name": "stdout",
     "output_type": "stream",
     "text": [
      "I am Suda\n"
     ]
    }
   ],
   "source": [
    "# Python Comments\n",
    "print(\"I am Suda\") # Printing a statement"
   ]
  },
  {
   "cell_type": "code",
   "execution_count": 69,
   "id": "e6055a63-a089-48f9-8e00-19cc01eb6c5c",
   "metadata": {},
   "outputs": [
    {
     "name": "stdout",
     "output_type": "stream",
     "text": [
      "I am Sudarshan\n",
      "[1, 2, 3, 4, 5, 6]\n"
     ]
    }
   ],
   "source": [
    "# multi line statement\n",
    "# Initialize the lines using continuation character\n",
    "c = \"I \\\n",
    "am \\\n",
    "Sudarshan\"\n",
    "print(c)\n",
    "num=[1,2,3,\n",
    "    4,5,6]\n",
    "print(num)\n"
   ]
  },
  {
   "cell_type": "code",
   "execution_count": 71,
   "id": "c09527e1-dfce-47b5-8eeb-591d521fe06d",
   "metadata": {},
   "outputs": [
    {
     "name": "stdout",
     "output_type": "stream",
     "text": [
      "He said ,'I completed internship in mainflow'.\n",
      "He said ,\"I completed internship in mainflow\".\n"
     ]
    }
   ],
   "source": [
    "# Quotation in python\n",
    "print(\"He said ,'I completed internship in mainflow'.\")\n",
    "print('He said ,\"I completed internship in mainflow\".')"
   ]
  },
  {
   "cell_type": "code",
   "execution_count": 76,
   "id": "b3e55fd6-e42a-4d33-83d5-f5a8272d8654",
   "metadata": {},
   "outputs": [
    {
     "name": "stdout",
     "output_type": "stream",
     "text": [
      "\n",
      " Hello \n",
      " Hi \n",
      " Bye!\n"
     ]
    }
   ],
   "source": [
    "# String Literals\n",
    "a='Hello'\n",
    "b=\"Hi\"\n",
    "c='''Bye!'''\n",
    "print(\"\\n\",a,\"\\n\",b,\"\\n\",c)"
   ]
  },
  {
   "cell_type": "code",
   "execution_count": 77,
   "id": "224dd2fb-e7a3-4429-bde4-3b71a1fddf1f",
   "metadata": {},
   "outputs": [
    {
     "name": "stdin",
     "output_type": "stream",
     "text": [
      "enter a String suda\n"
     ]
    },
    {
     "name": "stdout",
     "output_type": "stream",
     "text": [
      "suda\n"
     ]
    }
   ],
   "source": [
    "# Input from User\n",
    "a=input(\"enter a String\")\n",
    "print(a)\n"
   ]
  },
  {
   "cell_type": "markdown",
   "id": "94e0be3b-f28c-4a3f-b73c-b60cce8090b4",
   "metadata": {},
   "source": [
    "# Arithmetic Operations\n",
    "        - Addition\n",
    "        - Subtraction\n",
    "        - Multiplication\n",
    "        - Division \n",
    "        - Floor Division\n",
    "        - Modulus\n",
    "        - Exponential\n",
    "         "
   ]
  },
  {
   "cell_type": "code",
   "execution_count": 79,
   "id": "d55d7570-0619-4469-a23f-9a8554351d8a",
   "metadata": {},
   "outputs": [
    {
     "name": "stdin",
     "output_type": "stream",
     "text": [
      "Enter a value:  10\n",
      "Enter b value:  5\n"
     ]
    },
    {
     "name": "stdout",
     "output_type": "stream",
     "text": [
      "Addition of 10 and 5 is 15\n",
      "Subtraction  of 10 and 5 is 5\n",
      "Multiplication of 10 and 5 is 50\n",
      "Division of 10 and 5 is 2.0\n",
      "Floor division of 10 and 5 is 2\n",
      "Modulus of 10 and 5 is 0\n",
      "Exponential of 10 and 5 is 100000\n"
     ]
    }
   ],
   "source": [
    "a=int(input(\"Enter a value: \"))\n",
    "b=int(input(\"Enter b value: \"))\n",
    "#addition\n",
    "print(f\"Addition of {a} and {b} is {a+b}\")\n",
    "# Subtraction\n",
    "print(f\"Subtraction  of {a} and {b} is {a-b}\")\n",
    "# Multiplication\n",
    "print(f\"Multiplication of {a} and {b} is {a*b}\")\n",
    "# Division\n",
    "print(f\"Division of {a} and {b} is {a/b}\")\n",
    "#Floor  Division\n",
    "print(f\"Floor division of {a} and {b} is {a//b}\")\n",
    "# Modulus\n",
    "print(f\"Modulus of {a} and {b} is {a%b}\")\n",
    "#  Exponential\n",
    "print(f\"Exponential of {a} and {b} is {a**b}\")"
   ]
  },
  {
   "cell_type": "markdown",
   "id": "8cd542b4-67ab-49c0-bc64-27c30df93dd6",
   "metadata": {},
   "source": [
    "# String Manipulation"
   ]
  },
  {
   "cell_type": "code",
   "execution_count": 3,
   "id": "3d90aa46-0a9d-463e-bb05-28dc40202c70",
   "metadata": {},
   "outputs": [
    {
     "name": "stdout",
     "output_type": "stream",
     "text": [
      "Original string: Hello, World!\n",
      "Reversed string: !dlroW ,olleH\n",
      "Uppercase string: HELLO, WORLD!\n",
      "Lowercase string: hello, world!\n",
      "Replaced 'World' with 'Python': Hello, Python!\n",
      "Index of substring 'World': 7\n",
      "Split string by ', ': ['Hello', 'World!']\n",
      "Joined string with ', ': Hello, World!\n"
     ]
    }
   ],
   "source": [
    "# string\n",
    "sample_string = \"Hello, World!\"\n",
    "print(\"Original string:\", sample_string)\n",
    "\n",
    "# Reverse the string\n",
    "reversed_str = sample_string[::-1]\n",
    "print(\"Reversed string:\", reversed_str)\n",
    "\n",
    "# Convert to uppercase\n",
    "upper_str = sample_string.upper()\n",
    "print(\"Uppercase string:\", upper_str)\n",
    "\n",
    "# Convert to lowercase\n",
    "lower_str = sample_string.lower()\n",
    "print(\"Lowercase string:\", lower_str)\n",
    "\n",
    "# Replace 'World' with 'Python'\n",
    "replaced_str = sample_string.replace(\"World\", \"Python\")\n",
    "print(\"Replaced 'World' with 'Python':\", replaced_str)\n",
    "\n",
    "# Find the index of substring 'World'\n",
    "substring_index = sample_string.find(\"World\")\n",
    "print(\"Index of substring 'World':\", substring_index)\n",
    "\n",
    "# Split the string by ', '\n",
    "split_str = sample_string.split(\", \")\n",
    "print(\"Split string by ', ':\", split_str)\n",
    "\n",
    "# Join the list of strings with ', '\n",
    "joined_str = \", \".join(split_str)\n",
    "print(\"Joined string with ', ':\", joined_str)\n"
   ]
  },
  {
   "cell_type": "markdown",
   "id": "8a2e229d-6fd8-4fc3-bdb7-44fb9b5c91cc",
   "metadata": {},
   "source": [
    "# Conditional Statements\n",
    "        - if statement\n",
    "        - if else statement\n",
    "        - if else if ladder statement\n",
    "        - nested if statement"
   ]
  },
  {
   "cell_type": "code",
   "execution_count": 5,
   "id": "11b16b55-51ba-4fd3-a0d6-0cba6b1d5f51",
   "metadata": {},
   "outputs": [
    {
     "name": "stdin",
     "output_type": "stream",
     "text": [
      "Enter a number:  3\n"
     ]
    }
   ],
   "source": [
    "# If statemtent\n",
    "a=int(input(\"Enter a number: \"))\n",
    "if(a%2==0):\n",
    "    print(f\"{a} is an Even number\")"
   ]
  },
  {
   "cell_type": "code",
   "execution_count": 7,
   "id": "2e99b019-4268-4887-95d2-bc8515ef6c71",
   "metadata": {},
   "outputs": [
    {
     "name": "stdin",
     "output_type": "stream",
     "text": [
      "Enter a Number : 2\n"
     ]
    },
    {
     "name": "stdout",
     "output_type": "stream",
     "text": [
      "2 is an Even number\n"
     ]
    }
   ],
   "source": [
    "# If else statement\n",
    "a=int(input(\"Enter a Number :\"))\n",
    "if(a%2==0):\n",
    "    print(f\"{a} is an Even number\")\n",
    "else:\n",
    "    print(f\"{a} is Odd number\")"
   ]
  },
  {
   "cell_type": "code",
   "execution_count": 9,
   "id": "5f8b1269-a424-4e56-aa8d-607a56e3359a",
   "metadata": {},
   "outputs": [
    {
     "name": "stdin",
     "output_type": "stream",
     "text": [
      "Enter a number:  -2\n"
     ]
    },
    {
     "name": "stdout",
     "output_type": "stream",
     "text": [
      "-2 is Negative number\n"
     ]
    }
   ],
   "source": [
    "# If else if ladder\n",
    "a=int(input(\"Enter a number: \"))\n",
    "if(a==0):2\n",
    "    print(f\"{a} is Zero\")\n",
    "elif(a>0):\n",
    "    print(f\"{a} is Positive number\")\n",
    "else:\n",
    "    print(f\"{a} is Negative number\")"
   ]
  },
  {
   "cell_type": "code",
   "execution_count": 12,
   "id": "d2bed9e1-21be-4c74-98d3-119b043ca7be",
   "metadata": {},
   "outputs": [
    {
     "name": "stdin",
     "output_type": "stream",
     "text": [
      "Enter a number:  2\n"
     ]
    },
    {
     "name": "stdout",
     "output_type": "stream",
     "text": [
      "2 is an Even number\n",
      "\t2 is Positive number\n"
     ]
    }
   ],
   "source": [
    "# Nested if statement\n",
    "a=int(input(\"Enter a number: \"))\n",
    "if(a%2==0):\n",
    "    print(f\"{a} is an Even number\")\n",
    "    if(a>0):\n",
    "        print(f\"\\t{a} is Positive number\")\n",
    "    else:\n",
    "        print(f\"\\t{a} is Negative number\")\n",
    "else:\n",
    "    print(f\"{a} is Odd number\")\n",
    "        "
   ]
  },
  {
   "cell_type": "markdown",
   "id": "85a015f2-1e32-491e-8cde-e4b50083ad0a",
   "metadata": {},
   "source": [
    "# Datastructures\n",
    "        -list\n",
    "        -tuple\n",
    "        -dictionary\n",
    "        -set"
   ]
  },
  {
   "cell_type": "markdown",
   "id": "c9934ca6-611a-4638-a2a2-cb4f2b800803",
   "metadata": {},
   "source": [
    "### list"
   ]
  },
  {
   "cell_type": "code",
   "execution_count": 21,
   "id": "79114dcc-86ff-4f18-b2fd-5ac0816ddd55",
   "metadata": {},
   "outputs": [
    {
     "name": "stdout",
     "output_type": "stream",
     "text": [
      "Help on class list in module builtins:\n",
      "\n",
      "class list(object)\n",
      " |  list(iterable=(), /)\n",
      " |\n",
      " |  Built-in mutable sequence.\n",
      " |\n",
      " |  If no argument is given, the constructor creates a new empty list.\n",
      " |  The argument must be an iterable if specified.\n",
      " |\n",
      " |  Methods defined here:\n",
      " |\n",
      " |  __add__(self, value, /)\n",
      " |      Return self+value.\n",
      " |\n",
      " |  __contains__(self, key, /)\n",
      " |      Return bool(key in self).\n",
      " |\n",
      " |  __delitem__(self, key, /)\n",
      " |      Delete self[key].\n",
      " |\n",
      " |  __eq__(self, value, /)\n",
      " |      Return self==value.\n",
      " |\n",
      " |  __ge__(self, value, /)\n",
      " |      Return self>=value.\n",
      " |\n",
      " |  __getattribute__(self, name, /)\n",
      " |      Return getattr(self, name).\n",
      " |\n",
      " |  __getitem__(self, index, /)\n",
      " |      Return self[index].\n",
      " |\n",
      " |  __gt__(self, value, /)\n",
      " |      Return self>value.\n",
      " |\n",
      " |  __iadd__(self, value, /)\n",
      " |      Implement self+=value.\n",
      " |\n",
      " |  __imul__(self, value, /)\n",
      " |      Implement self*=value.\n",
      " |\n",
      " |  __init__(self, /, *args, **kwargs)\n",
      " |      Initialize self.  See help(type(self)) for accurate signature.\n",
      " |\n",
      " |  __iter__(self, /)\n",
      " |      Implement iter(self).\n",
      " |\n",
      " |  __le__(self, value, /)\n",
      " |      Return self<=value.\n",
      " |\n",
      " |  __len__(self, /)\n",
      " |      Return len(self).\n",
      " |\n",
      " |  __lt__(self, value, /)\n",
      " |      Return self<value.\n",
      " |\n",
      " |  __mul__(self, value, /)\n",
      " |      Return self*value.\n",
      " |\n",
      " |  __ne__(self, value, /)\n",
      " |      Return self!=value.\n",
      " |\n",
      " |  __repr__(self, /)\n",
      " |      Return repr(self).\n",
      " |\n",
      " |  __reversed__(self, /)\n",
      " |      Return a reverse iterator over the list.\n",
      " |\n",
      " |  __rmul__(self, value, /)\n",
      " |      Return value*self.\n",
      " |\n",
      " |  __setitem__(self, key, value, /)\n",
      " |      Set self[key] to value.\n",
      " |\n",
      " |  __sizeof__(self, /)\n",
      " |      Return the size of the list in memory, in bytes.\n",
      " |\n",
      " |  append(self, object, /)\n",
      " |      Append object to the end of the list.\n",
      " |\n",
      " |  clear(self, /)\n",
      " |      Remove all items from list.\n",
      " |\n",
      " |  copy(self, /)\n",
      " |      Return a shallow copy of the list.\n",
      " |\n",
      " |  count(self, value, /)\n",
      " |      Return number of occurrences of value.\n",
      " |\n",
      " |  extend(self, iterable, /)\n",
      " |      Extend list by appending elements from the iterable.\n",
      " |\n",
      " |  index(self, value, start=0, stop=9223372036854775807, /)\n",
      " |      Return first index of value.\n",
      " |\n",
      " |      Raises ValueError if the value is not present.\n",
      " |\n",
      " |  insert(self, index, object, /)\n",
      " |      Insert object before index.\n",
      " |\n",
      " |  pop(self, index=-1, /)\n",
      " |      Remove and return item at index (default last).\n",
      " |\n",
      " |      Raises IndexError if list is empty or index is out of range.\n",
      " |\n",
      " |  remove(self, value, /)\n",
      " |      Remove first occurrence of value.\n",
      " |\n",
      " |      Raises ValueError if the value is not present.\n",
      " |\n",
      " |  reverse(self, /)\n",
      " |      Reverse *IN PLACE*.\n",
      " |\n",
      " |  sort(self, /, *, key=None, reverse=False)\n",
      " |      Sort the list in ascending order and return None.\n",
      " |\n",
      " |      The sort is in-place (i.e. the list itself is modified) and stable (i.e. the\n",
      " |      order of two equal elements is maintained).\n",
      " |\n",
      " |      If a key function is given, apply it once to each list item and sort them,\n",
      " |      ascending or descending, according to their function values.\n",
      " |\n",
      " |      The reverse flag can be set to sort in descending order.\n",
      " |\n",
      " |  ----------------------------------------------------------------------\n",
      " |  Class methods defined here:\n",
      " |\n",
      " |  __class_getitem__(...)\n",
      " |      See PEP 585\n",
      " |\n",
      " |  ----------------------------------------------------------------------\n",
      " |  Static methods defined here:\n",
      " |\n",
      " |  __new__(*args, **kwargs)\n",
      " |      Create and return a new object.  See help(type) for accurate signature.\n",
      " |\n",
      " |  ----------------------------------------------------------------------\n",
      " |  Data and other attributes defined here:\n",
      " |\n",
      " |  __hash__ = None\n",
      "\n"
     ]
    }
   ],
   "source": [
    "help(list)"
   ]
  },
  {
   "cell_type": "code",
   "execution_count": 22,
   "id": "56b6f56a-a44c-4254-9ee2-c01c127f2751",
   "metadata": {},
   "outputs": [
    {
     "data": {
      "text/plain": [
       "['__add__',\n",
       " '__class__',\n",
       " '__class_getitem__',\n",
       " '__contains__',\n",
       " '__delattr__',\n",
       " '__delitem__',\n",
       " '__dir__',\n",
       " '__doc__',\n",
       " '__eq__',\n",
       " '__format__',\n",
       " '__ge__',\n",
       " '__getattribute__',\n",
       " '__getitem__',\n",
       " '__getstate__',\n",
       " '__gt__',\n",
       " '__hash__',\n",
       " '__iadd__',\n",
       " '__imul__',\n",
       " '__init__',\n",
       " '__init_subclass__',\n",
       " '__iter__',\n",
       " '__le__',\n",
       " '__len__',\n",
       " '__lt__',\n",
       " '__mul__',\n",
       " '__ne__',\n",
       " '__new__',\n",
       " '__reduce__',\n",
       " '__reduce_ex__',\n",
       " '__repr__',\n",
       " '__reversed__',\n",
       " '__rmul__',\n",
       " '__setattr__',\n",
       " '__setitem__',\n",
       " '__sizeof__',\n",
       " '__str__',\n",
       " '__subclasshook__',\n",
       " 'append',\n",
       " 'clear',\n",
       " 'copy',\n",
       " 'count',\n",
       " 'extend',\n",
       " 'index',\n",
       " 'insert',\n",
       " 'pop',\n",
       " 'remove',\n",
       " 'reverse',\n",
       " 'sort']"
      ]
     },
     "execution_count": 22,
     "metadata": {},
     "output_type": "execute_result"
    }
   ],
   "source": [
    "dir(list)"
   ]
  },
  {
   "cell_type": "code",
   "execution_count": 28,
   "id": "cbf18d46-95ed-442d-9be4-f8a275730664",
   "metadata": {},
   "outputs": [
    {
     "name": "stdout",
     "output_type": "stream",
     "text": [
      "['apple', 'banana', 'cherry']\n",
      "apple\n",
      "banana\n",
      "['apple', 'orange', 'cherry']\n",
      "['apple', 'cherry']\n",
      "banana\n",
      "['cherry', 'apple']\n",
      "2\n",
      "[1, 2, 3, 4, 5]\n",
      "[1, 2, 3, 4, 5, 6]\n",
      "1\n"
     ]
    }
   ],
   "source": [
    "#list and it's operations\n",
    "fruits = [\"apple\", \"banana\", \"cherry\"]\n",
    "print(fruits)\n",
    "# accesing elements\n",
    "first_fruit = fruits[0]\n",
    "print(first_fruit)  # Output: apple\n",
    "second_fruit = fruits[1]\n",
    "print(second_fruit)  # Output: banana\n",
    "#update the list\n",
    "fruits[1] = \"orange\"\n",
    "# Printing the updated list\n",
    "print(fruits)  # Output: ['apple', 'orange', 'cherry']\n",
    "# remove element\n",
    "fruits = [\"apple\", \"banana\", \"cherry\"]\n",
    "removed_fruit = fruits.pop(1)\n",
    "print(fruits)         # Output: ['apple', 'cherry']\n",
    "print(removed_fruit)  # Output: banana\n",
    "# reverse the list\n",
    "fruits.reverse()\n",
    "print(fruits)\n",
    "# find length\n",
    "print(len(fruits))\n",
    "# create list by list()\n",
    "numbers = list([1, 2, 3, 4, 5])\n",
    "print(numbers)\n",
    "numbers.append(6)\n",
    "print(numbers)\n",
    "# count the values\n",
    "print(numbers.count(2))"
   ]
  },
  {
   "cell_type": "markdown",
   "id": "537395ab-151c-437e-8e1d-1fd83fc1f0b5",
   "metadata": {},
   "source": [
    "### Tuple"
   ]
  },
  {
   "cell_type": "code",
   "execution_count": 29,
   "id": "73a5dbbd-b6e7-4242-8dde-8aaf0c19d7a3",
   "metadata": {},
   "outputs": [
    {
     "name": "stdout",
     "output_type": "stream",
     "text": [
      "Help on class tuple in module builtins:\n",
      "\n",
      "class tuple(object)\n",
      " |  tuple(iterable=(), /)\n",
      " |\n",
      " |  Built-in immutable sequence.\n",
      " |\n",
      " |  If no argument is given, the constructor returns an empty tuple.\n",
      " |  If iterable is specified the tuple is initialized from iterable's items.\n",
      " |\n",
      " |  If the argument is a tuple, the return value is the same object.\n",
      " |\n",
      " |  Built-in subclasses:\n",
      " |      asyncgen_hooks\n",
      " |      UnraisableHookArgs\n",
      " |\n",
      " |  Methods defined here:\n",
      " |\n",
      " |  __add__(self, value, /)\n",
      " |      Return self+value.\n",
      " |\n",
      " |  __contains__(self, key, /)\n",
      " |      Return bool(key in self).\n",
      " |\n",
      " |  __eq__(self, value, /)\n",
      " |      Return self==value.\n",
      " |\n",
      " |  __ge__(self, value, /)\n",
      " |      Return self>=value.\n",
      " |\n",
      " |  __getattribute__(self, name, /)\n",
      " |      Return getattr(self, name).\n",
      " |\n",
      " |  __getitem__(self, key, /)\n",
      " |      Return self[key].\n",
      " |\n",
      " |  __getnewargs__(self, /)\n",
      " |\n",
      " |  __gt__(self, value, /)\n",
      " |      Return self>value.\n",
      " |\n",
      " |  __hash__(self, /)\n",
      " |      Return hash(self).\n",
      " |\n",
      " |  __iter__(self, /)\n",
      " |      Implement iter(self).\n",
      " |\n",
      " |  __le__(self, value, /)\n",
      " |      Return self<=value.\n",
      " |\n",
      " |  __len__(self, /)\n",
      " |      Return len(self).\n",
      " |\n",
      " |  __lt__(self, value, /)\n",
      " |      Return self<value.\n",
      " |\n",
      " |  __mul__(self, value, /)\n",
      " |      Return self*value.\n",
      " |\n",
      " |  __ne__(self, value, /)\n",
      " |      Return self!=value.\n",
      " |\n",
      " |  __repr__(self, /)\n",
      " |      Return repr(self).\n",
      " |\n",
      " |  __rmul__(self, value, /)\n",
      " |      Return value*self.\n",
      " |\n",
      " |  count(self, value, /)\n",
      " |      Return number of occurrences of value.\n",
      " |\n",
      " |  index(self, value, start=0, stop=9223372036854775807, /)\n",
      " |      Return first index of value.\n",
      " |\n",
      " |      Raises ValueError if the value is not present.\n",
      " |\n",
      " |  ----------------------------------------------------------------------\n",
      " |  Class methods defined here:\n",
      " |\n",
      " |  __class_getitem__(...)\n",
      " |      See PEP 585\n",
      " |\n",
      " |  ----------------------------------------------------------------------\n",
      " |  Static methods defined here:\n",
      " |\n",
      " |  __new__(*args, **kwargs)\n",
      " |      Create and return a new object.  See help(type) for accurate signature.\n",
      "\n"
     ]
    }
   ],
   "source": [
    "# tuple\n",
    "help(tuple)"
   ]
  },
  {
   "cell_type": "code",
   "execution_count": 30,
   "id": "a33d6b68-96dd-4b63-8ed0-9b453ac7772b",
   "metadata": {},
   "outputs": [
    {
     "data": {
      "text/plain": [
       "['__add__',\n",
       " '__class__',\n",
       " '__class_getitem__',\n",
       " '__contains__',\n",
       " '__delattr__',\n",
       " '__dir__',\n",
       " '__doc__',\n",
       " '__eq__',\n",
       " '__format__',\n",
       " '__ge__',\n",
       " '__getattribute__',\n",
       " '__getitem__',\n",
       " '__getnewargs__',\n",
       " '__getstate__',\n",
       " '__gt__',\n",
       " '__hash__',\n",
       " '__init__',\n",
       " '__init_subclass__',\n",
       " '__iter__',\n",
       " '__le__',\n",
       " '__len__',\n",
       " '__lt__',\n",
       " '__mul__',\n",
       " '__ne__',\n",
       " '__new__',\n",
       " '__reduce__',\n",
       " '__reduce_ex__',\n",
       " '__repr__',\n",
       " '__rmul__',\n",
       " '__setattr__',\n",
       " '__sizeof__',\n",
       " '__str__',\n",
       " '__subclasshook__',\n",
       " 'count',\n",
       " 'index']"
      ]
     },
     "execution_count": 30,
     "metadata": {},
     "output_type": "execute_result"
    }
   ],
   "source": [
    "dir(tuple)"
   ]
  },
  {
   "cell_type": "code",
   "execution_count": 36,
   "id": "6b6546e8-155c-4a2b-8840-967b8dc53866",
   "metadata": {},
   "outputs": [
    {
     "name": "stdout",
     "output_type": "stream",
     "text": [
      "()\n",
      "<class 'tuple'>\n"
     ]
    },
    {
     "name": "stdin",
     "output_type": "stream",
     "text": [
      "Enter values:  2 3 4 4\n"
     ]
    },
    {
     "name": "stdout",
     "output_type": "stream",
     "text": [
      "('2', '3', '4', '4')\n",
      "('s', 'u', 'd', 'a', 'r', 's', 'h', 'a', 'n')\n"
     ]
    }
   ],
   "source": [
    "#tuple creation\n",
    "x=()\n",
    "print(x)\n",
    "print(type(x))\n",
    "a=input(\"Enter values: \").split()\n",
    "print(tuple(a))\n",
    "s='sudarshan'\n",
    "print(tuple(s))"
   ]
  },
  {
   "cell_type": "code",
   "execution_count": 43,
   "id": "48d4a998-90ef-4b72-abfb-42f91d0ff193",
   "metadata": {},
   "outputs": [
    {
     "name": "stdout",
     "output_type": "stream",
     "text": [
      "s\n",
      "hi ok bye\n",
      "('1', '2', '3', '4')\n",
      "('p', 'y', 't', 'h', 'o', 'n')\n",
      "('1', '2', '3', '4', 'p', 'y', 't', 'h', 'o', 'n')\n",
      "4\n",
      "1\n",
      "10\n"
     ]
    }
   ],
   "source": [
    "# tuple operations\n",
    "print(s[0])\n",
    "# another tuple\n",
    "a,b,c=('hi','ok','bye')\n",
    "print(a,b,c)\n",
    "num=tuple('1234')\n",
    "name=tuple('python')\n",
    "tup=num+name\n",
    "print(num)\n",
    "print(name)\n",
    "print(tup)\n",
    "print(tup.index('p'))\n",
    "print(tup.count('1'))\n",
    "# length of tuplel\n",
    "print(len(tup))"
   ]
  },
  {
   "cell_type": "markdown",
   "id": "b525059b-0ac6-4010-ac33-d6de93c6d324",
   "metadata": {},
   "source": [
    "### Dictionary"
   ]
  },
  {
   "cell_type": "code",
   "execution_count": 44,
   "id": "fc5170d6-3718-4e82-8968-6f6ae663e365",
   "metadata": {},
   "outputs": [
    {
     "name": "stdout",
     "output_type": "stream",
     "text": [
      "Help on class dict in module builtins:\n",
      "\n",
      "class dict(object)\n",
      " |  dict() -> new empty dictionary\n",
      " |  dict(mapping) -> new dictionary initialized from a mapping object's\n",
      " |      (key, value) pairs\n",
      " |  dict(iterable) -> new dictionary initialized as if via:\n",
      " |      d = {}\n",
      " |      for k, v in iterable:\n",
      " |          d[k] = v\n",
      " |  dict(**kwargs) -> new dictionary initialized with the name=value pairs\n",
      " |      in the keyword argument list.  For example:  dict(one=1, two=2)\n",
      " |\n",
      " |  Built-in subclasses:\n",
      " |      StgDict\n",
      " |\n",
      " |  Methods defined here:\n",
      " |\n",
      " |  __contains__(self, key, /)\n",
      " |      True if the dictionary has the specified key, else False.\n",
      " |\n",
      " |  __delitem__(self, key, /)\n",
      " |      Delete self[key].\n",
      " |\n",
      " |  __eq__(self, value, /)\n",
      " |      Return self==value.\n",
      " |\n",
      " |  __ge__(self, value, /)\n",
      " |      Return self>=value.\n",
      " |\n",
      " |  __getattribute__(self, name, /)\n",
      " |      Return getattr(self, name).\n",
      " |\n",
      " |  __getitem__(self, key, /)\n",
      " |      Return self[key].\n",
      " |\n",
      " |  __gt__(self, value, /)\n",
      " |      Return self>value.\n",
      " |\n",
      " |  __init__(self, /, *args, **kwargs)\n",
      " |      Initialize self.  See help(type(self)) for accurate signature.\n",
      " |\n",
      " |  __ior__(self, value, /)\n",
      " |      Return self|=value.\n",
      " |\n",
      " |  __iter__(self, /)\n",
      " |      Implement iter(self).\n",
      " |\n",
      " |  __le__(self, value, /)\n",
      " |      Return self<=value.\n",
      " |\n",
      " |  __len__(self, /)\n",
      " |      Return len(self).\n",
      " |\n",
      " |  __lt__(self, value, /)\n",
      " |      Return self<value.\n",
      " |\n",
      " |  __ne__(self, value, /)\n",
      " |      Return self!=value.\n",
      " |\n",
      " |  __or__(self, value, /)\n",
      " |      Return self|value.\n",
      " |\n",
      " |  __repr__(self, /)\n",
      " |      Return repr(self).\n",
      " |\n",
      " |  __reversed__(self, /)\n",
      " |      Return a reverse iterator over the dict keys.\n",
      " |\n",
      " |  __ror__(self, value, /)\n",
      " |      Return value|self.\n",
      " |\n",
      " |  __setitem__(self, key, value, /)\n",
      " |      Set self[key] to value.\n",
      " |\n",
      " |  __sizeof__(...)\n",
      " |      D.__sizeof__() -> size of D in memory, in bytes\n",
      " |\n",
      " |  clear(...)\n",
      " |      D.clear() -> None.  Remove all items from D.\n",
      " |\n",
      " |  copy(...)\n",
      " |      D.copy() -> a shallow copy of D\n",
      " |\n",
      " |  get(self, key, default=None, /)\n",
      " |      Return the value for key if key is in the dictionary, else default.\n",
      " |\n",
      " |  items(...)\n",
      " |      D.items() -> a set-like object providing a view on D's items\n",
      " |\n",
      " |  keys(...)\n",
      " |      D.keys() -> a set-like object providing a view on D's keys\n",
      " |\n",
      " |  pop(...)\n",
      " |      D.pop(k[,d]) -> v, remove specified key and return the corresponding value.\n",
      " |\n",
      " |      If the key is not found, return the default if given; otherwise,\n",
      " |      raise a KeyError.\n",
      " |\n",
      " |  popitem(self, /)\n",
      " |      Remove and return a (key, value) pair as a 2-tuple.\n",
      " |\n",
      " |      Pairs are returned in LIFO (last-in, first-out) order.\n",
      " |      Raises KeyError if the dict is empty.\n",
      " |\n",
      " |  setdefault(self, key, default=None, /)\n",
      " |      Insert key with a value of default if key is not in the dictionary.\n",
      " |\n",
      " |      Return the value for key if key is in the dictionary, else default.\n",
      " |\n",
      " |  update(...)\n",
      " |      D.update([E, ]**F) -> None.  Update D from dict/iterable E and F.\n",
      " |      If E is present and has a .keys() method, then does:  for k in E: D[k] = E[k]\n",
      " |      If E is present and lacks a .keys() method, then does:  for k, v in E: D[k] = v\n",
      " |      In either case, this is followed by: for k in F:  D[k] = F[k]\n",
      " |\n",
      " |  values(...)\n",
      " |      D.values() -> an object providing a view on D's values\n",
      " |\n",
      " |  ----------------------------------------------------------------------\n",
      " |  Class methods defined here:\n",
      " |\n",
      " |  __class_getitem__(...)\n",
      " |      See PEP 585\n",
      " |\n",
      " |  fromkeys(iterable, value=None, /)\n",
      " |      Create a new dictionary with keys from iterable and values set to value.\n",
      " |\n",
      " |  ----------------------------------------------------------------------\n",
      " |  Static methods defined here:\n",
      " |\n",
      " |  __new__(*args, **kwargs)\n",
      " |      Create and return a new object.  See help(type) for accurate signature.\n",
      " |\n",
      " |  ----------------------------------------------------------------------\n",
      " |  Data and other attributes defined here:\n",
      " |\n",
      " |  __hash__ = None\n",
      "\n"
     ]
    }
   ],
   "source": [
    "# dictionary\n",
    "help(dict)"
   ]
  },
  {
   "cell_type": "code",
   "execution_count": 45,
   "id": "ef8dd93f-d3b7-40f5-9264-7d4ffade656e",
   "metadata": {},
   "outputs": [
    {
     "data": {
      "text/plain": [
       "['__class__',\n",
       " '__class_getitem__',\n",
       " '__contains__',\n",
       " '__delattr__',\n",
       " '__delitem__',\n",
       " '__dir__',\n",
       " '__doc__',\n",
       " '__eq__',\n",
       " '__format__',\n",
       " '__ge__',\n",
       " '__getattribute__',\n",
       " '__getitem__',\n",
       " '__getstate__',\n",
       " '__gt__',\n",
       " '__hash__',\n",
       " '__init__',\n",
       " '__init_subclass__',\n",
       " '__ior__',\n",
       " '__iter__',\n",
       " '__le__',\n",
       " '__len__',\n",
       " '__lt__',\n",
       " '__ne__',\n",
       " '__new__',\n",
       " '__or__',\n",
       " '__reduce__',\n",
       " '__reduce_ex__',\n",
       " '__repr__',\n",
       " '__reversed__',\n",
       " '__ror__',\n",
       " '__setattr__',\n",
       " '__setitem__',\n",
       " '__sizeof__',\n",
       " '__str__',\n",
       " '__subclasshook__',\n",
       " 'clear',\n",
       " 'copy',\n",
       " 'fromkeys',\n",
       " 'get',\n",
       " 'items',\n",
       " 'keys',\n",
       " 'pop',\n",
       " 'popitem',\n",
       " 'setdefault',\n",
       " 'update',\n",
       " 'values']"
      ]
     },
     "execution_count": 45,
     "metadata": {},
     "output_type": "execute_result"
    }
   ],
   "source": [
    "dir(dict)"
   ]
  },
  {
   "cell_type": "code",
   "execution_count": 64,
   "id": "e07c9f19-74d0-4a12-a36c-eb51576edc19",
   "metadata": {},
   "outputs": [
    {
     "name": "stdout",
     "output_type": "stream",
     "text": [
      "<class 'dict'>\n",
      "{1: 'hi', 2: 'hlo'}\n",
      "{1: 'hi', 2: 'hlo', 3: 'ok'}\n",
      "hi\n",
      "hi\n",
      "dict_items([(1, 'hi'), (2, 'hlo'), (3, 'ok')])\n",
      "dict_keys([1, 2, 3])\n",
      "dict_values(['hi', 'hlo', 'ok'])\n",
      "hi\n",
      "{2: 'hlo', 3: 'ok'}\n"
     ]
    }
   ],
   "source": [
    "# create a dictionary and operations\n",
    "dict={}\n",
    "print(type(dict))\n",
    "d1={1:'hi',2:'hlo'}\n",
    "print(d1)\n",
    "# add element\n",
    "d1[3]='ok'\n",
    "print(d1)\n",
    "# access element\n",
    "print(d1[1])\n",
    "# access using get\n",
    "print(d1.get(1))\n",
    "print(d1.items())\n",
    "print(d1.keys())\n",
    "print(d1.values())\n",
    "print(d1.pop(1))\n",
    "print(d1)"
   ]
  },
  {
   "cell_type": "markdown",
   "id": "ff07c596-bf1b-4981-9a4f-3c957444d2e2",
   "metadata": {},
   "source": [
    "### Set"
   ]
  },
  {
   "cell_type": "code",
   "execution_count": 65,
   "id": "bb6f11ef-a0c0-42db-a1a0-123b92cde8b1",
   "metadata": {},
   "outputs": [
    {
     "name": "stdout",
     "output_type": "stream",
     "text": [
      "Set: {1, 2, 3, 4, 5}\n",
      "Set after adding an element: {1, 2, 3, 4, 5, 6}\n",
      "Set after removing an element: {1, 2, 4, 5, 6}\n",
      "Is 4 in the set? True\n",
      "Is 7 in the set? False\n",
      "Another Set: {4, 5, 6, 7, 8}\n",
      "Union of sets: {1, 2, 4, 5, 6, 7, 8}\n",
      "Intersection of sets: {4, 5, 6}\n",
      "Difference of sets: {1, 2}\n",
      "Symmetric Difference of sets: {1, 2, 7, 8}\n"
     ]
    }
   ],
   "source": [
    "# Create a set\n",
    "my_set = {1, 2, 3, 4, 5}\n",
    "print(\"Set:\", my_set)\n",
    "\n",
    "# Add an element to the set\n",
    "my_set.add(6)\n",
    "print(\"Set after adding an element:\", my_set)\n",
    "\n",
    "# Remove an element from the set\n",
    "my_set.remove(3)\n",
    "print(\"Set after removing an element:\", my_set)\n",
    "\n",
    "# Check if an element is in the set\n",
    "print(\"Is 4 in the set?\", 4 in my_set)\n",
    "print(\"Is 7 in the set?\", 7 in my_set)\n",
    "\n",
    "# Create another set\n",
    "another_set = {4, 5, 6, 7, 8}\n",
    "print(\"Another Set:\", another_set)\n",
    "\n",
    "# Union of sets\n",
    "union_set = my_set.union(another_set)\n",
    "print(\"Union of sets:\", union_set)\n",
    "\n",
    "# Intersection of sets\n",
    "intersection_set = my_set.intersection(another_set)\n",
    "print(\"Intersection of sets:\", intersection_set)\n",
    "\n",
    "# Difference of sets\n",
    "difference_set = my_set.difference(another_set)\n",
    "print(\"Difference of sets:\", difference_set)\n",
    "\n",
    "# Symmetric difference of sets\n",
    "symmetric_difference_set = my_set.symmetric_difference(another_set)\n",
    "print(\"Symmetric Difference of sets:\", symmetric_difference_set)\n"
   ]
  }
 ],
 "metadata": {
  "kernelspec": {
   "display_name": "Python 3 (ipykernel)",
   "language": "python",
   "name": "python3"
  },
  "language_info": {
   "codemirror_mode": {
    "name": "ipython",
    "version": 3
   },
   "file_extension": ".py",
   "mimetype": "text/x-python",
   "name": "python",
   "nbconvert_exporter": "python",
   "pygments_lexer": "ipython3",
   "version": "3.12.3"
  }
 },
 "nbformat": 4,
 "nbformat_minor": 5
}
